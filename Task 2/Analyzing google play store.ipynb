{
 "cells": [
  {
   "cell_type": "code",
   "execution_count": 2,
   "id": "ed58cb3c-fe1a-4ee4-9e79-a1aa3ff18f72",
   "metadata": {},
   "outputs": [
    {
     "name": "stdout",
     "output_type": "stream",
     "text": [
      "Apps Dataset Preview:\n",
      "   Unnamed: 0                                                App  \\\n",
      "0           0     Photo Editor & Candy Camera & Grid & ScrapBook   \n",
      "1           1                                Coloring book moana   \n",
      "2           2  U Launcher Lite – FREE Live Cool Themes, Hide ...   \n",
      "3           3                              Sketch - Draw & Paint   \n",
      "4           4              Pixel Draw - Number Art Coloring Book   \n",
      "\n",
      "         Category  Rating  Reviews  Size     Installs  Type Price  \\\n",
      "0  ART_AND_DESIGN     4.1      159  19.0      10,000+  Free     0   \n",
      "1  ART_AND_DESIGN     3.9      967  14.0     500,000+  Free     0   \n",
      "2  ART_AND_DESIGN     4.7    87510   8.7   5,000,000+  Free     0   \n",
      "3  ART_AND_DESIGN     4.5   215644  25.0  50,000,000+  Free     0   \n",
      "4  ART_AND_DESIGN     4.3      967   2.8     100,000+  Free     0   \n",
      "\n",
      "  Content Rating                     Genres      Last Updated  \\\n",
      "0       Everyone               Art & Design   January 7, 2018   \n",
      "1       Everyone  Art & Design;Pretend Play  January 15, 2018   \n",
      "2       Everyone               Art & Design    August 1, 2018   \n",
      "3           Teen               Art & Design      June 8, 2018   \n",
      "4       Everyone    Art & Design;Creativity     June 20, 2018   \n",
      "\n",
      "          Current Ver   Android Ver  \n",
      "0               1.0.0  4.0.3 and up  \n",
      "1               2.0.0  4.0.3 and up  \n",
      "2               1.2.4  4.0.3 and up  \n",
      "3  Varies with device    4.2 and up  \n",
      "4                 1.1    4.4 and up  \n",
      "\n",
      "User Reviews Dataset Preview:\n",
      "                     App                                  Translated_Review  \\\n",
      "0  10 Best Foods for You  I like eat delicious food. That's I'm cooking ...   \n",
      "1  10 Best Foods for You    This help eating healthy exercise regular basis   \n",
      "2  10 Best Foods for You                                                NaN   \n",
      "3  10 Best Foods for You         Works great especially going grocery store   \n",
      "4  10 Best Foods for You                                       Best idea us   \n",
      "\n",
      "  Sentiment  Sentiment_Polarity  Sentiment_Subjectivity  \n",
      "0  Positive                1.00                0.533333  \n",
      "1  Positive                0.25                0.288462  \n",
      "2       NaN                 NaN                     NaN  \n",
      "3  Positive                0.40                0.875000  \n",
      "4  Positive                1.00                0.300000  \n"
     ]
    }
   ],
   "source": [
    "import pandas as pd\n",
    "import numpy as np\n",
    "\n",
    "# Load datasets\n",
    "apps = pd.read_csv(r'C:\\Users\\holar\\Documents\\Excel Project\\apps.csv') \n",
    "user_reviews = pd.read_csv(r'C:\\Users\\holar\\Documents\\Excel Project\\user_reviews.csv')\n",
    "\n",
    "print(\"Apps Dataset Preview:\")\n",
    "print(apps.head())\n",
    "\n",
    "print(\"\\nUser Reviews Dataset Preview:\")\n",
    "print(user_reviews.head())"
   ]
  },
  {
   "cell_type": "code",
   "execution_count": 8,
   "id": "2a3a0a15-1179-4ba1-8ccb-582f159d9c36",
   "metadata": {},
   "outputs": [
    {
     "name": "stdout",
     "output_type": "stream",
     "text": [
      "\n",
      "Cleaned Apps Dataset:\n",
      "<class 'pandas.core.frame.DataFrame'>\n",
      "RangeIndex: 9659 entries, 0 to 9658\n",
      "Data columns (total 14 columns):\n",
      " #   Column          Non-Null Count  Dtype  \n",
      "---  ------          --------------  -----  \n",
      " 0   Unnamed: 0      9659 non-null   int64  \n",
      " 1   App             9659 non-null   object \n",
      " 2   Category        9659 non-null   object \n",
      " 3   Rating          9659 non-null   float64\n",
      " 4   Reviews         9659 non-null   int32  \n",
      " 5   Size            0 non-null      float64\n",
      " 6   Installs        9659 non-null   object \n",
      " 7   Type            9659 non-null   object \n",
      " 8   Price           9659 non-null   float64\n",
      " 9   Content Rating  9659 non-null   object \n",
      " 10  Genres          9659 non-null   object \n",
      " 11  Last Updated    9659 non-null   object \n",
      " 12  Current Ver     9651 non-null   object \n",
      " 13  Android Ver     9657 non-null   object \n",
      "dtypes: float64(3), int32(1), int64(1), object(9)\n",
      "memory usage: 1018.9+ KB\n",
      "None\n"
     ]
    }
   ],
   "source": [
    "# Drop duplicates\n",
    "apps.drop_duplicates(subset='App', inplace=True)\n",
    "\n",
    "# Clean 'Size' column\n",
    "def size_to_mb(size):\n",
    "    if pd.isnull(size):  # Handle NaN values\n",
    "        return np.nan\n",
    "    if isinstance(size, str):  # Ensure size is a string\n",
    "        if 'M' in size:\n",
    "            return float(size.replace('M', ''))\n",
    "        elif 'k' in size:\n",
    "            return float(size.replace('k', '')) / 1024  # Convert KB to MB\n",
    "    return np.nan  # Return NaN for other cases\n",
    "\n",
    "apps['Size'] = apps['Size'].replace('Varies with device', np.nan).apply(size_to_mb)\n",
    "\n",
    "# Clean 'Price' column\n",
    "apps['Price'] = apps['Price'].astype(str).str.replace('$', '').replace('Free', '0').astype(float)\n",
    "\n",
    "# Handle missing ratings by filling with the mean\n",
    "mean_rating = apps['Rating'].mean()\n",
    "apps['Rating'] = apps['Rating'].fillna(mean_rating)\n",
    "\n",
    "# Convert 'Reviews' to integer\n",
    "apps['Reviews'] = apps['Reviews'].astype(int)\n",
    "\n",
    "print(\"\\nCleaned Apps Dataset:\")\n",
    "print(apps.info())"
   ]
  },
  {
   "cell_type": "code",
   "execution_count": 9,
   "id": "c05ffdc2-be71-4832-8b58-5de520ec65f2",
   "metadata": {},
   "outputs": [
    {
     "name": "stdout",
     "output_type": "stream",
     "text": [
      "   Unnamed: 0                                                App  \\\n",
      "0           0     Photo Editor & Candy Camera & Grid & ScrapBook   \n",
      "1           1                                Coloring book moana   \n",
      "2           2  U Launcher Lite – FREE Live Cool Themes, Hide ...   \n",
      "3           3                              Sketch - Draw & Paint   \n",
      "4           4              Pixel Draw - Number Art Coloring Book   \n",
      "\n",
      "         Category  Rating  Reviews  Size     Installs  Type  Price  \\\n",
      "0  ART_AND_DESIGN     4.1      159   NaN      10,000+  Free    0.0   \n",
      "1  ART_AND_DESIGN     3.9      967   NaN     500,000+  Free    0.0   \n",
      "2  ART_AND_DESIGN     4.7    87510   NaN   5,000,000+  Free    0.0   \n",
      "3  ART_AND_DESIGN     4.5   215644   NaN  50,000,000+  Free    0.0   \n",
      "4  ART_AND_DESIGN     4.3      967   NaN     100,000+  Free    0.0   \n",
      "\n",
      "  Content Rating                     Genres      Last Updated  \\\n",
      "0       Everyone               Art & Design   January 7, 2018   \n",
      "1       Everyone  Art & Design;Pretend Play  January 15, 2018   \n",
      "2       Everyone               Art & Design    August 1, 2018   \n",
      "3           Teen               Art & Design      June 8, 2018   \n",
      "4       Everyone    Art & Design;Creativity     June 20, 2018   \n",
      "\n",
      "          Current Ver   Android Ver  \n",
      "0               1.0.0  4.0.3 and up  \n",
      "1               2.0.0  4.0.3 and up  \n",
      "2               1.2.4  4.0.3 and up  \n",
      "3  Varies with device    4.2 and up  \n",
      "4                 1.1    4.4 and up  \n"
     ]
    }
   ],
   "source": [
    "print(apps.head())"
   ]
  },
  {
   "cell_type": "code",
   "execution_count": 10,
   "id": "d4c38599-a9fe-47a1-8018-bc6a151f42e0",
   "metadata": {},
   "outputs": [
    {
     "name": "stdout",
     "output_type": "stream",
     "text": [
      "\n",
      "Cleaned User Reviews Dataset:\n",
      "<class 'pandas.core.frame.DataFrame'>\n",
      "RangeIndex: 64295 entries, 0 to 64294\n",
      "Data columns (total 5 columns):\n",
      " #   Column                  Non-Null Count  Dtype  \n",
      "---  ------                  --------------  -----  \n",
      " 0   App                     64295 non-null  object \n",
      " 1   Translated_Review       37427 non-null  object \n",
      " 2   Sentiment               64295 non-null  object \n",
      " 3   Sentiment_Polarity      64295 non-null  float64\n",
      " 4   Sentiment_Subjectivity  64295 non-null  float64\n",
      "dtypes: float64(2), object(3)\n",
      "memory usage: 2.5+ MB\n",
      "None\n"
     ]
    }
   ],
   "source": [
    "# Fill missing 'Sentiment' values with 'Neutral'\n",
    "user_reviews['Sentiment'] = user_reviews['Sentiment'].fillna('Neutral')\n",
    "user_reviews['Sentiment_Polarity'] = user_reviews['Sentiment_Polarity'].fillna(0)\n",
    "user_reviews['Sentiment_Subjectivity'] = user_reviews['Sentiment_Subjectivity'].fillna(0)\n",
    "\n",
    "print(\"\\nCleaned User Reviews Dataset:\")\n",
    "print(user_reviews.info())"
   ]
  },
  {
   "cell_type": "code",
   "execution_count": 18,
   "id": "afce7692-af3e-4b95-ad47-22419331af8a",
   "metadata": {},
   "outputs": [
    {
     "name": "stdout",
     "output_type": "stream",
     "text": [
      "\n",
      "Merged Dataset Preview:\n",
      "   Unnamed: 0                  App        Category  Rating  Reviews  Size  \\\n",
      "0           1  Coloring book moana  ART_AND_DESIGN     3.9      967   NaN   \n",
      "1           1  Coloring book moana  ART_AND_DESIGN     3.9      967   NaN   \n",
      "2           1  Coloring book moana  ART_AND_DESIGN     3.9      967   NaN   \n",
      "3           1  Coloring book moana  ART_AND_DESIGN     3.9      967   NaN   \n",
      "4           1  Coloring book moana  ART_AND_DESIGN     3.9      967   NaN   \n",
      "\n",
      "   Installs  Type  Price Content Rating                     Genres  \\\n",
      "0  500,000+  Free    0.0       Everyone  Art & Design;Pretend Play   \n",
      "1  500,000+  Free    0.0       Everyone  Art & Design;Pretend Play   \n",
      "2  500,000+  Free    0.0       Everyone  Art & Design;Pretend Play   \n",
      "3  500,000+  Free    0.0       Everyone  Art & Design;Pretend Play   \n",
      "4  500,000+  Free    0.0       Everyone  Art & Design;Pretend Play   \n",
      "\n",
      "       Last Updated Current Ver   Android Ver  \\\n",
      "0  January 15, 2018       2.0.0  4.0.3 and up   \n",
      "1  January 15, 2018       2.0.0  4.0.3 and up   \n",
      "2  January 15, 2018       2.0.0  4.0.3 and up   \n",
      "3  January 15, 2018       2.0.0  4.0.3 and up   \n",
      "4  January 15, 2018       2.0.0  4.0.3 and up   \n",
      "\n",
      "                                   Translated_Review Sentiment  \\\n",
      "0  A kid's excessive ads. The types ads allowed a...  Negative   \n",
      "1                                         It bad >:(  Negative   \n",
      "2                                               like   Neutral   \n",
      "3                                                NaN   Neutral   \n",
      "4                           I love colors inspyering  Positive   \n",
      "\n",
      "   Sentiment_Polarity  Sentiment_Subjectivity  \n",
      "0              -0.250                1.000000  \n",
      "1              -0.725                0.833333  \n",
      "2               0.000                0.000000  \n",
      "3               0.000                0.000000  \n",
      "4               0.500                0.600000  \n"
     ]
    }
   ],
   "source": [
    "# Merge datasets on 'App'\n",
    "merged_data = pd.merge(apps, user_reviews, on='App', how='inner')\n",
    "\n",
    "# Preview the merged dataset\n",
    "print(\"\\nMerged Dataset Preview:\")\n",
    "print(merged_data.head())"
   ]
  },
  {
   "cell_type": "code",
   "execution_count": 19,
   "id": "71ca66b5-fc51-4c4a-92af-c0cda429f2c3",
   "metadata": {},
   "outputs": [
    {
     "name": "stdout",
     "output_type": "stream",
     "text": [
      "\n",
      "Category Distribution:\n",
      "Category\n",
      "GAME                   10540\n",
      "FAMILY                  3969\n",
      "HEALTH_AND_FITNESS      3456\n",
      "DATING                  3098\n",
      "PRODUCTIVITY            2760\n",
      "TOOLS                   2612\n",
      "SPORTS                  2600\n",
      "PHOTOGRAPHY             2600\n",
      "TRAVEL_AND_LOCAL        2500\n",
      "COMMUNICATION           2240\n",
      "MEDICAL                 2234\n",
      "FINANCE                 2200\n",
      "ENTERTAINMENT           2180\n",
      "SHOPPING                1920\n",
      "EDUCATION               1860\n",
      "PERSONALIZATION         1800\n",
      "BUSINESS                1600\n",
      "LIFESTYLE               1563\n",
      "NEWS_AND_MAGAZINES      1560\n",
      "BOOKS_AND_REFERENCE     1112\n",
      "SOCIAL                   980\n",
      "FOOD_AND_DRINK           951\n",
      "HOUSE_AND_HOME           899\n",
      "AUTO_AND_VEHICLES        603\n",
      "BEAUTY                   591\n",
      "ART_AND_DESIGN           548\n",
      "VIDEO_PLAYERS            500\n",
      "LIBRARIES_AND_DEMO       480\n",
      "PARENTING                440\n",
      "MAPS_AND_NAVIGATION      440\n",
      "EVENTS                   280\n",
      "WEATHER                  240\n",
      "COMICS                   200\n",
      "Name: count, dtype: int64\n"
     ]
    }
   ],
   "source": [
    "# Category distribution\n",
    "category_counts = merged_data['Category'].value_counts()\n",
    "print(\"\\nCategory Distribution:\")\n",
    "print(category_counts)"
   ]
  },
  {
   "cell_type": "code",
   "execution_count": 20,
   "id": "c04e276f-dede-4eeb-b713-beaa820e4534",
   "metadata": {},
   "outputs": [
    {
     "name": "stdout",
     "output_type": "stream",
     "text": [
      "\n",
      "Correlation Matrix:\n",
      "           Rating   Reviews  Size\n",
      "Rating   1.000000  0.093589   NaN\n",
      "Reviews  0.093589  1.000000   NaN\n",
      "Size          NaN       NaN   NaN\n"
     ]
    }
   ],
   "source": [
    "# Correlation between Rating, Reviews, and Size\n",
    "correlation_matrix = merged_data[['Rating', 'Reviews', 'Size']].corr()\n",
    "print(\"\\nCorrelation Matrix:\")\n",
    "print(correlation_matrix)"
   ]
  },
  {
   "cell_type": "code",
   "execution_count": 21,
   "id": "ac65c067-58e7-468a-a63f-78bddf3c7a57",
   "metadata": {},
   "outputs": [
    {
     "name": "stdout",
     "output_type": "stream",
     "text": [
      "\n",
      "Sentiment Distribution:\n",
      "Sentiment\n",
      "Neutral     30478\n",
      "Positive    23073\n",
      "Negative     8005\n",
      "Name: count, dtype: int64\n"
     ]
    }
   ],
   "source": [
    "# Sentiment counts\n",
    "sentiment_counts = merged_data['Sentiment'].value_counts()\n",
    "print(\"\\nSentiment Distribution:\")\n",
    "print(sentiment_counts)"
   ]
  },
  {
   "cell_type": "code",
   "execution_count": 22,
   "id": "a9ad3659-cbb7-433a-9315-6f92adb1a280",
   "metadata": {},
   "outputs": [],
   "source": [
    "merged_data.to_csv(r'C:\\Users\\holar\\Documents\\Excel Project\\merged_data.csv', index=False)"
   ]
  },
  {
   "cell_type": "code",
   "execution_count": null,
   "id": "9bec4ad1-caa2-4e08-9b85-818d9cf7ec1b",
   "metadata": {},
   "outputs": [],
   "source": []
  }
 ],
 "metadata": {
  "kernelspec": {
   "display_name": "Python 3 (ipykernel)",
   "language": "python",
   "name": "python3"
  },
  "language_info": {
   "codemirror_mode": {
    "name": "ipython",
    "version": 3
   },
   "file_extension": ".py",
   "mimetype": "text/x-python",
   "name": "python",
   "nbconvert_exporter": "python",
   "pygments_lexer": "ipython3",
   "version": "3.12.4"
  }
 },
 "nbformat": 4,
 "nbformat_minor": 5
}
